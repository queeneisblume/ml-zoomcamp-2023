{
 "cells": [
  {
   "cell_type": "markdown",
   "id": "ba82d5d8",
   "metadata": {
    "papermill": {
     "duration": 0.009055,
     "end_time": "2023-09-11T16:54:47.086752",
     "exception": false,
     "start_time": "2023-09-11T16:54:47.077697",
     "status": "completed"
    },
    "tags": []
   },
   "source": [
    "# Set up the environment\n",
    "You need to install Python, NumPy, Pandas, Matplotlib and Seaborn. "
   ]
  },
  {
   "cell_type": "code",
   "execution_count": 1,
   "id": "2ccd0fab",
   "metadata": {
    "_cell_guid": "b1076dfc-b9ad-4769-8c92-a6c4dae69d19",
    "_uuid": "8f2839f25d086af736a60e9eeb907d3b93b6e0e5",
    "execution": {
     "iopub.execute_input": "2023-09-11T16:54:47.105678Z",
     "iopub.status.busy": "2023-09-11T16:54:47.104828Z",
     "iopub.status.idle": "2023-09-11T16:54:47.486218Z",
     "shell.execute_reply": "2023-09-11T16:54:47.485098Z"
    },
    "papermill": {
     "duration": 0.39353,
     "end_time": "2023-09-11T16:54:47.488935",
     "exception": false,
     "start_time": "2023-09-11T16:54:47.095405",
     "status": "completed"
    },
    "tags": []
   },
   "outputs": [],
   "source": [
    "import numpy as np\n",
    "import pandas as pd"
   ]
  },
  {
   "cell_type": "markdown",
   "id": "7ebd78f1",
   "metadata": {
    "papermill": {
     "duration": 0.007364,
     "end_time": "2023-09-11T16:54:47.503967",
     "exception": false,
     "start_time": "2023-09-11T16:54:47.496603",
     "status": "completed"
    },
    "tags": []
   },
   "source": [
    "# Question 1\n",
    "What's the version of Pandas that you installed?"
   ]
  },
  {
   "cell_type": "code",
   "execution_count": 2,
   "id": "11a19aae",
   "metadata": {
    "execution": {
     "iopub.execute_input": "2023-09-11T16:54:47.520613Z",
     "iopub.status.busy": "2023-09-11T16:54:47.520103Z",
     "iopub.status.idle": "2023-09-11T16:54:47.530592Z",
     "shell.execute_reply": "2023-09-11T16:54:47.527078Z"
    },
    "papermill": {
     "duration": 0.021596,
     "end_time": "2023-09-11T16:54:47.533024",
     "exception": false,
     "start_time": "2023-09-11T16:54:47.511428",
     "status": "completed"
    },
    "tags": []
   },
   "outputs": [
    {
     "data": {
      "text/plain": [
       "'2.0.3'"
      ]
     },
     "execution_count": 2,
     "metadata": {},
     "output_type": "execute_result"
    }
   ],
   "source": [
    "pd.__version__"
   ]
  },
  {
   "cell_type": "markdown",
   "id": "5e195d4a",
   "metadata": {
    "papermill": {
     "duration": 0.007803,
     "end_time": "2023-09-11T16:54:47.548836",
     "exception": false,
     "start_time": "2023-09-11T16:54:47.541033",
     "status": "completed"
    },
    "tags": []
   },
   "source": [
    "# Getting the data\n",
    "\n",
    "For this homework, we'll use the California Housing Prices dataset."
   ]
  },
  {
   "cell_type": "code",
   "execution_count": 3,
   "id": "82fbab58",
   "metadata": {
    "execution": {
     "iopub.execute_input": "2023-09-11T16:54:47.566300Z",
     "iopub.status.busy": "2023-09-11T16:54:47.565907Z",
     "iopub.status.idle": "2023-09-11T16:54:48.903807Z",
     "shell.execute_reply": "2023-09-11T16:54:48.902140Z"
    },
    "papermill": {
     "duration": 1.350365,
     "end_time": "2023-09-11T16:54:48.907034",
     "exception": false,
     "start_time": "2023-09-11T16:54:47.556669",
     "status": "completed"
    },
    "tags": []
   },
   "outputs": [
    {
     "name": "stdout",
     "output_type": "stream",
     "text": [
      "--2023-09-11 16:54:48--  https://raw.githubusercontent.com/alexeygrigorev/datasets/master/housing.csv\r\n",
      "Resolving raw.githubusercontent.com (raw.githubusercontent.com)... 185.199.111.133, 185.199.109.133, 185.199.108.133, ...\r\n",
      "Connecting to raw.githubusercontent.com (raw.githubusercontent.com)|185.199.111.133|:443... connected.\r\n",
      "HTTP request sent, awaiting response... 200 OK\r\n",
      "Length: 1423529 (1.4M) [text/plain]\r\n",
      "Saving to: ‘housing.csv’\r\n",
      "\r\n",
      "housing.csv         100%[===================>]   1.36M  --.-KB/s    in 0.07s   \r\n",
      "\r\n",
      "2023-09-11 16:54:48 (18.4 MB/s) - ‘housing.csv’ saved [1423529/1423529]\r\n",
      "\r\n"
     ]
    }
   ],
   "source": [
    "!wget https://raw.githubusercontent.com/alexeygrigorev/datasets/master/housing.csv"
   ]
  },
  {
   "cell_type": "code",
   "execution_count": 4,
   "id": "0fb86c62",
   "metadata": {
    "execution": {
     "iopub.execute_input": "2023-09-11T16:54:48.927436Z",
     "iopub.status.busy": "2023-09-11T16:54:48.926654Z",
     "iopub.status.idle": "2023-09-11T16:54:49.001289Z",
     "shell.execute_reply": "2023-09-11T16:54:49.000287Z"
    },
    "papermill": {
     "duration": 0.087534,
     "end_time": "2023-09-11T16:54:49.003893",
     "exception": false,
     "start_time": "2023-09-11T16:54:48.916359",
     "status": "completed"
    },
    "tags": []
   },
   "outputs": [
    {
     "data": {
      "text/html": [
       "<div>\n",
       "<style scoped>\n",
       "    .dataframe tbody tr th:only-of-type {\n",
       "        vertical-align: middle;\n",
       "    }\n",
       "\n",
       "    .dataframe tbody tr th {\n",
       "        vertical-align: top;\n",
       "    }\n",
       "\n",
       "    .dataframe thead th {\n",
       "        text-align: right;\n",
       "    }\n",
       "</style>\n",
       "<table border=\"1\" class=\"dataframe\">\n",
       "  <thead>\n",
       "    <tr style=\"text-align: right;\">\n",
       "      <th></th>\n",
       "      <th>longitude</th>\n",
       "      <th>latitude</th>\n",
       "      <th>housing_median_age</th>\n",
       "      <th>total_rooms</th>\n",
       "      <th>total_bedrooms</th>\n",
       "      <th>population</th>\n",
       "      <th>households</th>\n",
       "      <th>median_income</th>\n",
       "      <th>median_house_value</th>\n",
       "      <th>ocean_proximity</th>\n",
       "    </tr>\n",
       "  </thead>\n",
       "  <tbody>\n",
       "    <tr>\n",
       "      <th>0</th>\n",
       "      <td>-122.23</td>\n",
       "      <td>37.88</td>\n",
       "      <td>41.0</td>\n",
       "      <td>880.0</td>\n",
       "      <td>129.0</td>\n",
       "      <td>322.0</td>\n",
       "      <td>126.0</td>\n",
       "      <td>8.3252</td>\n",
       "      <td>452600.0</td>\n",
       "      <td>NEAR BAY</td>\n",
       "    </tr>\n",
       "    <tr>\n",
       "      <th>1</th>\n",
       "      <td>-122.22</td>\n",
       "      <td>37.86</td>\n",
       "      <td>21.0</td>\n",
       "      <td>7099.0</td>\n",
       "      <td>1106.0</td>\n",
       "      <td>2401.0</td>\n",
       "      <td>1138.0</td>\n",
       "      <td>8.3014</td>\n",
       "      <td>358500.0</td>\n",
       "      <td>NEAR BAY</td>\n",
       "    </tr>\n",
       "    <tr>\n",
       "      <th>2</th>\n",
       "      <td>-122.24</td>\n",
       "      <td>37.85</td>\n",
       "      <td>52.0</td>\n",
       "      <td>1467.0</td>\n",
       "      <td>190.0</td>\n",
       "      <td>496.0</td>\n",
       "      <td>177.0</td>\n",
       "      <td>7.2574</td>\n",
       "      <td>352100.0</td>\n",
       "      <td>NEAR BAY</td>\n",
       "    </tr>\n",
       "    <tr>\n",
       "      <th>3</th>\n",
       "      <td>-122.25</td>\n",
       "      <td>37.85</td>\n",
       "      <td>52.0</td>\n",
       "      <td>1274.0</td>\n",
       "      <td>235.0</td>\n",
       "      <td>558.0</td>\n",
       "      <td>219.0</td>\n",
       "      <td>5.6431</td>\n",
       "      <td>341300.0</td>\n",
       "      <td>NEAR BAY</td>\n",
       "    </tr>\n",
       "    <tr>\n",
       "      <th>4</th>\n",
       "      <td>-122.25</td>\n",
       "      <td>37.85</td>\n",
       "      <td>52.0</td>\n",
       "      <td>1627.0</td>\n",
       "      <td>280.0</td>\n",
       "      <td>565.0</td>\n",
       "      <td>259.0</td>\n",
       "      <td>3.8462</td>\n",
       "      <td>342200.0</td>\n",
       "      <td>NEAR BAY</td>\n",
       "    </tr>\n",
       "  </tbody>\n",
       "</table>\n",
       "</div>"
      ],
      "text/plain": [
       "   longitude  latitude  housing_median_age  total_rooms  total_bedrooms  \\\n",
       "0    -122.23     37.88                41.0        880.0           129.0   \n",
       "1    -122.22     37.86                21.0       7099.0          1106.0   \n",
       "2    -122.24     37.85                52.0       1467.0           190.0   \n",
       "3    -122.25     37.85                52.0       1274.0           235.0   \n",
       "4    -122.25     37.85                52.0       1627.0           280.0   \n",
       "\n",
       "   population  households  median_income  median_house_value ocean_proximity  \n",
       "0       322.0       126.0         8.3252            452600.0        NEAR BAY  \n",
       "1      2401.0      1138.0         8.3014            358500.0        NEAR BAY  \n",
       "2       496.0       177.0         7.2574            352100.0        NEAR BAY  \n",
       "3       558.0       219.0         5.6431            341300.0        NEAR BAY  \n",
       "4       565.0       259.0         3.8462            342200.0        NEAR BAY  "
      ]
     },
     "execution_count": 4,
     "metadata": {},
     "output_type": "execute_result"
    }
   ],
   "source": [
    "df = pd.read_csv(\"/kaggle/working/housing.csv\")\n",
    "df.head()"
   ]
  },
  {
   "cell_type": "markdown",
   "id": "6b13f3cf",
   "metadata": {
    "papermill": {
     "duration": 0.008598,
     "end_time": "2023-09-11T16:54:49.021840",
     "exception": false,
     "start_time": "2023-09-11T16:54:49.013242",
     "status": "completed"
    },
    "tags": []
   },
   "source": [
    "# Question 2\n",
    "How many columns are in the dataset?\n",
    "- [x] 10\n",
    "- [ ] 6560\n",
    "- [ ] 10989\n",
    "- [ ] 20640"
   ]
  },
  {
   "cell_type": "code",
   "execution_count": 5,
   "id": "959cf798",
   "metadata": {
    "execution": {
     "iopub.execute_input": "2023-09-11T16:54:49.041615Z",
     "iopub.status.busy": "2023-09-11T16:54:49.041193Z",
     "iopub.status.idle": "2023-09-11T16:54:49.048661Z",
     "shell.execute_reply": "2023-09-11T16:54:49.047672Z"
    },
    "papermill": {
     "duration": 0.020264,
     "end_time": "2023-09-11T16:54:49.051220",
     "exception": false,
     "start_time": "2023-09-11T16:54:49.030956",
     "status": "completed"
    },
    "tags": []
   },
   "outputs": [
    {
     "data": {
      "text/plain": [
       "10"
      ]
     },
     "execution_count": 5,
     "metadata": {},
     "output_type": "execute_result"
    }
   ],
   "source": [
    "# Get number of cols\n",
    "df.shape[1]"
   ]
  },
  {
   "cell_type": "markdown",
   "id": "1743a0fb",
   "metadata": {
    "papermill": {
     "duration": 0.009389,
     "end_time": "2023-09-11T16:54:49.069697",
     "exception": false,
     "start_time": "2023-09-11T16:54:49.060308",
     "status": "completed"
    },
    "tags": []
   },
   "source": [
    "# Question 3\n",
    "Which columns in the dataset have missing values?\n",
    "- [ ] `total_rooms`\n",
    "- [x] `total_bedrooms`\n",
    "- [ ] both of the above\n",
    "- [ ] no empty columns in the dataset"
   ]
  },
  {
   "cell_type": "code",
   "execution_count": 6,
   "id": "0c4c941a",
   "metadata": {
    "execution": {
     "iopub.execute_input": "2023-09-11T16:54:49.090032Z",
     "iopub.status.busy": "2023-09-11T16:54:49.089314Z",
     "iopub.status.idle": "2023-09-11T16:54:49.101872Z",
     "shell.execute_reply": "2023-09-11T16:54:49.100916Z"
    },
    "papermill": {
     "duration": 0.025277,
     "end_time": "2023-09-11T16:54:49.104166",
     "exception": false,
     "start_time": "2023-09-11T16:54:49.078889",
     "status": "completed"
    },
    "tags": []
   },
   "outputs": [
    {
     "data": {
      "text/plain": [
       "longitude               0\n",
       "latitude                0\n",
       "housing_median_age      0\n",
       "total_rooms             0\n",
       "total_bedrooms        207\n",
       "population              0\n",
       "households              0\n",
       "median_income           0\n",
       "median_house_value      0\n",
       "ocean_proximity         0\n",
       "dtype: int64"
      ]
     },
     "execution_count": 6,
     "metadata": {},
     "output_type": "execute_result"
    }
   ],
   "source": [
    "# Find cols with NaN values\n",
    "df.isnull().sum()"
   ]
  },
  {
   "cell_type": "markdown",
   "id": "963b0a8e",
   "metadata": {
    "papermill": {
     "duration": 0.009182,
     "end_time": "2023-09-11T16:54:49.122974",
     "exception": false,
     "start_time": "2023-09-11T16:54:49.113792",
     "status": "completed"
    },
    "tags": []
   },
   "source": [
    "# Question 4\n",
    "How many unique values does the `ocean_proximity` column have?\n",
    "- [ ] 3\n",
    "- [x] 5\n",
    "- [ ] 7\n",
    "- [ ] 9"
   ]
  },
  {
   "cell_type": "code",
   "execution_count": 7,
   "id": "651e4154",
   "metadata": {
    "execution": {
     "iopub.execute_input": "2023-09-11T16:54:49.142768Z",
     "iopub.status.busy": "2023-09-11T16:54:49.142364Z",
     "iopub.status.idle": "2023-09-11T16:54:49.157386Z",
     "shell.execute_reply": "2023-09-11T16:54:49.155894Z"
    },
    "papermill": {
     "duration": 0.028399,
     "end_time": "2023-09-11T16:54:49.160384",
     "exception": false,
     "start_time": "2023-09-11T16:54:49.131985",
     "status": "completed"
    },
    "tags": []
   },
   "outputs": [
    {
     "data": {
      "text/plain": [
       "5"
      ]
     },
     "execution_count": 7,
     "metadata": {},
     "output_type": "execute_result"
    }
   ],
   "source": [
    "# Find `nunique` of `ocean_proximity`\n",
    "df[\"ocean_proximity\"].nunique()"
   ]
  },
  {
   "cell_type": "markdown",
   "id": "10ba0ee7",
   "metadata": {
    "papermill": {
     "duration": 0.0086,
     "end_time": "2023-09-11T16:54:49.178213",
     "exception": false,
     "start_time": "2023-09-11T16:54:49.169613",
     "status": "completed"
    },
    "tags": []
   },
   "source": [
    "# Question 5\n",
    "What's the average value of the `median_house_value` for the houses located near the bay?\n",
    "- [ ] 49433\n",
    "- [ ] 124805\n",
    "- [x] 259212\n",
    "- [ ] 380440"
   ]
  },
  {
   "cell_type": "code",
   "execution_count": 8,
   "id": "06fef163",
   "metadata": {
    "execution": {
     "iopub.execute_input": "2023-09-11T16:54:49.199069Z",
     "iopub.status.busy": "2023-09-11T16:54:49.198593Z",
     "iopub.status.idle": "2023-09-11T16:54:49.213532Z",
     "shell.execute_reply": "2023-09-11T16:54:49.211886Z"
    },
    "papermill": {
     "duration": 0.028886,
     "end_time": "2023-09-11T16:54:49.216299",
     "exception": false,
     "start_time": "2023-09-11T16:54:49.187413",
     "status": "completed"
    },
    "tags": []
   },
   "outputs": [
    {
     "data": {
      "text/plain": [
       "259212.0"
      ]
     },
     "execution_count": 8,
     "metadata": {},
     "output_type": "execute_result"
    }
   ],
   "source": [
    "# Calculate mean of `mesian_house_value` col\n",
    "df[df[\"ocean_proximity\"]==\"NEAR BAY\"][\"median_house_value\"].mean().round()"
   ]
  },
  {
   "cell_type": "markdown",
   "id": "be01e0ec",
   "metadata": {
    "papermill": {
     "duration": 0.008933,
     "end_time": "2023-09-11T16:54:49.234515",
     "exception": false,
     "start_time": "2023-09-11T16:54:49.225582",
     "status": "completed"
    },
    "tags": []
   },
   "source": [
    "# Question 6\n",
    "1. Calculate the average of `total_bedrooms` column in the dataset.\n",
    "2. Use the `fillna` method to fill the missing values in `total_bedrooms` with the mean value from the previous step.\n",
    "3. Now, calculate the average of `total_bedrooms` again.\n",
    "4. Has it changed?\n",
    "\n",
    "Has it changed?\n",
    "\n",
    "> **_Hint:_**  take into account only 3 digits after the decimal point.\n",
    "- [ ] Yes\n",
    "- [x] No"
   ]
  },
  {
   "cell_type": "code",
   "execution_count": 9,
   "id": "043f9f1a",
   "metadata": {
    "execution": {
     "iopub.execute_input": "2023-09-11T16:54:49.254112Z",
     "iopub.status.busy": "2023-09-11T16:54:49.253716Z",
     "iopub.status.idle": "2023-09-11T16:54:49.262134Z",
     "shell.execute_reply": "2023-09-11T16:54:49.260870Z"
    },
    "papermill": {
     "duration": 0.021145,
     "end_time": "2023-09-11T16:54:49.264457",
     "exception": false,
     "start_time": "2023-09-11T16:54:49.243312",
     "status": "completed"
    },
    "tags": []
   },
   "outputs": [
    {
     "data": {
      "text/plain": [
       "537.871"
      ]
     },
     "execution_count": 9,
     "metadata": {},
     "output_type": "execute_result"
    }
   ],
   "source": [
    "# Calculate mean of `total_bedrooms` col\n",
    "avg_total_bedrooms = df[\"total_bedrooms\"].mean().round(3)\n",
    "avg_total_bedrooms"
   ]
  },
  {
   "cell_type": "code",
   "execution_count": 10,
   "id": "c9c3b1aa",
   "metadata": {
    "execution": {
     "iopub.execute_input": "2023-09-11T16:54:49.285396Z",
     "iopub.status.busy": "2023-09-11T16:54:49.285010Z",
     "iopub.status.idle": "2023-09-11T16:54:49.297613Z",
     "shell.execute_reply": "2023-09-11T16:54:49.296247Z"
    },
    "papermill": {
     "duration": 0.026026,
     "end_time": "2023-09-11T16:54:49.300210",
     "exception": false,
     "start_time": "2023-09-11T16:54:49.274184",
     "status": "completed"
    },
    "tags": []
   },
   "outputs": [
    {
     "data": {
      "text/plain": [
       "537.871"
      ]
     },
     "execution_count": 10,
     "metadata": {},
     "output_type": "execute_result"
    }
   ],
   "source": [
    "# Fill NaN values\n",
    "df[\"total_bedrooms\"].fillna(avg_total_bedrooms, inplace=True)\n",
    "df[\"total_bedrooms\"].mean().round(3)"
   ]
  },
  {
   "cell_type": "markdown",
   "id": "bb6acfcf",
   "metadata": {
    "papermill": {
     "duration": 0.009367,
     "end_time": "2023-09-11T16:54:49.319191",
     "exception": false,
     "start_time": "2023-09-11T16:54:49.309824",
     "status": "completed"
    },
    "tags": []
   },
   "source": [
    "# Question 7\n",
    "1. Select all the options located on islands.\n",
    "2. Select only columns `housing_median_age`, `total_rooms`, `total_bedrooms`.\n",
    "3. Get the underlying NumPy array. Let's call it `X`.\n",
    "4. Compute matrix-matrix multiplication between the transpose of `X` and `X`. To get the transpose, use `X.T.` Let's call the result `XTX`.\n",
    "5. Compute the inverse of `XTX`.\n",
    "6. Create an array y with values `[950, 1300, 800, 1000, 1300]`.\n",
    "7. Multiply the inverse of `XTX` with the transpose of `X`, and then multiply the result by `y`. Call the result `w`.\n",
    "8. What's the value of the last element of `w`?\n",
    "\n",
    "> **_Hint:_**  You just implemented linear regression. We'll talk about it in the next lesson.\n",
    "- [ ] -1.4812\n",
    "- [ ] 0.001\n",
    "- [x] 5.6992\n",
    "- [ ] 23.1233"
   ]
  },
  {
   "cell_type": "code",
   "execution_count": 11,
   "id": "77d07095",
   "metadata": {
    "execution": {
     "iopub.execute_input": "2023-09-11T16:54:49.340223Z",
     "iopub.status.busy": "2023-09-11T16:54:49.339799Z",
     "iopub.status.idle": "2023-09-11T16:54:49.348688Z",
     "shell.execute_reply": "2023-09-11T16:54:49.347320Z"
    },
    "papermill": {
     "duration": 0.021937,
     "end_time": "2023-09-11T16:54:49.351163",
     "exception": false,
     "start_time": "2023-09-11T16:54:49.329226",
     "status": "completed"
    },
    "tags": []
   },
   "outputs": [
    {
     "data": {
      "text/plain": [
       "array(['NEAR BAY', '<1H OCEAN', 'INLAND', 'NEAR OCEAN', 'ISLAND'],\n",
       "      dtype=object)"
      ]
     },
     "execution_count": 11,
     "metadata": {},
     "output_type": "execute_result"
    }
   ],
   "source": [
    "# Find unique values in `ocean_proximity`\n",
    "df[\"ocean_proximity\"].unique()"
   ]
  },
  {
   "cell_type": "code",
   "execution_count": 12,
   "id": "5f2b3a81",
   "metadata": {
    "execution": {
     "iopub.execute_input": "2023-09-11T16:54:49.372930Z",
     "iopub.status.busy": "2023-09-11T16:54:49.372504Z",
     "iopub.status.idle": "2023-09-11T16:54:49.383265Z",
     "shell.execute_reply": "2023-09-11T16:54:49.381737Z"
    },
    "papermill": {
     "duration": 0.025174,
     "end_time": "2023-09-11T16:54:49.386190",
     "exception": false,
     "start_time": "2023-09-11T16:54:49.361016",
     "status": "completed"
    },
    "tags": []
   },
   "outputs": [],
   "source": [
    "# Select all located on 'ISLAND'\n",
    "df = df[df[\"ocean_proximity\"]==\"ISLAND\"]"
   ]
  },
  {
   "cell_type": "code",
   "execution_count": 13,
   "id": "8f5f6e38",
   "metadata": {
    "execution": {
     "iopub.execute_input": "2023-09-11T16:54:49.408534Z",
     "iopub.status.busy": "2023-09-11T16:54:49.407488Z",
     "iopub.status.idle": "2023-09-11T16:54:49.416738Z",
     "shell.execute_reply": "2023-09-11T16:54:49.415339Z"
    },
    "papermill": {
     "duration": 0.023267,
     "end_time": "2023-09-11T16:54:49.419279",
     "exception": false,
     "start_time": "2023-09-11T16:54:49.396012",
     "status": "completed"
    },
    "tags": []
   },
   "outputs": [],
   "source": [
    "# Select `housing_median_age` `total_rooms` `total_bedrooms`\n",
    "df = df[[\"housing_median_age\", \"total_rooms\", \"total_bedrooms\"]]"
   ]
  },
  {
   "cell_type": "code",
   "execution_count": 14,
   "id": "790598d4",
   "metadata": {
    "execution": {
     "iopub.execute_input": "2023-09-11T16:54:49.441070Z",
     "iopub.status.busy": "2023-09-11T16:54:49.440649Z",
     "iopub.status.idle": "2023-09-11T16:54:49.446780Z",
     "shell.execute_reply": "2023-09-11T16:54:49.445335Z"
    },
    "papermill": {
     "duration": 0.020017,
     "end_time": "2023-09-11T16:54:49.449182",
     "exception": false,
     "start_time": "2023-09-11T16:54:49.429165",
     "status": "completed"
    },
    "tags": []
   },
   "outputs": [],
   "source": [
    "# Get the underlying NumPy array\n",
    "X = df.to_numpy()"
   ]
  },
  {
   "cell_type": "code",
   "execution_count": 15,
   "id": "b7b50ea4",
   "metadata": {
    "execution": {
     "iopub.execute_input": "2023-09-11T16:54:49.470676Z",
     "iopub.status.busy": "2023-09-11T16:54:49.470214Z",
     "iopub.status.idle": "2023-09-11T16:54:49.478606Z",
     "shell.execute_reply": "2023-09-11T16:54:49.477317Z"
    },
    "papermill": {
     "duration": 0.022479,
     "end_time": "2023-09-11T16:54:49.481451",
     "exception": false,
     "start_time": "2023-09-11T16:54:49.458972",
     "status": "completed"
    },
    "tags": []
   },
   "outputs": [],
   "source": [
    "# Matrix-matrix multiplication\n",
    "XTX = np.dot(X.T, X)"
   ]
  },
  {
   "cell_type": "code",
   "execution_count": 16,
   "id": "e3974f53",
   "metadata": {
    "execution": {
     "iopub.execute_input": "2023-09-11T16:54:49.503092Z",
     "iopub.status.busy": "2023-09-11T16:54:49.502654Z",
     "iopub.status.idle": "2023-09-11T16:54:49.511879Z",
     "shell.execute_reply": "2023-09-11T16:54:49.510600Z"
    },
    "papermill": {
     "duration": 0.023636,
     "end_time": "2023-09-11T16:54:49.514788",
     "exception": false,
     "start_time": "2023-09-11T16:54:49.491152",
     "status": "completed"
    },
    "tags": []
   },
   "outputs": [],
   "source": [
    "# Inverse of `XTX`\n",
    "XTX_inv = np.linalg.inv(XTX) "
   ]
  },
  {
   "cell_type": "code",
   "execution_count": 17,
   "id": "fc900ff8",
   "metadata": {
    "execution": {
     "iopub.execute_input": "2023-09-11T16:54:49.552216Z",
     "iopub.status.busy": "2023-09-11T16:54:49.551625Z",
     "iopub.status.idle": "2023-09-11T16:54:49.561371Z",
     "shell.execute_reply": "2023-09-11T16:54:49.560108Z"
    },
    "papermill": {
     "duration": 0.034569,
     "end_time": "2023-09-11T16:54:49.565180",
     "exception": false,
     "start_time": "2023-09-11T16:54:49.530611",
     "status": "completed"
    },
    "tags": []
   },
   "outputs": [],
   "source": [
    "# Create array `y`\n",
    "y = np.array([950, 1300, 800, 1000, 1300])"
   ]
  },
  {
   "cell_type": "code",
   "execution_count": 18,
   "id": "d52041a0",
   "metadata": {
    "execution": {
     "iopub.execute_input": "2023-09-11T16:54:49.600502Z",
     "iopub.status.busy": "2023-09-11T16:54:49.599863Z",
     "iopub.status.idle": "2023-09-11T16:54:49.607025Z",
     "shell.execute_reply": "2023-09-11T16:54:49.605759Z"
    },
    "papermill": {
     "duration": 0.032643,
     "end_time": "2023-09-11T16:54:49.614064",
     "exception": false,
     "start_time": "2023-09-11T16:54:49.581421",
     "status": "completed"
    },
    "tags": []
   },
   "outputs": [],
   "source": [
    "# Compute `w`\n",
    "w = np.dot(np.dot(XTX_inv, X.T), y)"
   ]
  },
  {
   "cell_type": "code",
   "execution_count": 19,
   "id": "6120763d",
   "metadata": {
    "execution": {
     "iopub.execute_input": "2023-09-11T16:54:49.641805Z",
     "iopub.status.busy": "2023-09-11T16:54:49.641430Z",
     "iopub.status.idle": "2023-09-11T16:54:49.648377Z",
     "shell.execute_reply": "2023-09-11T16:54:49.647248Z"
    },
    "papermill": {
     "duration": 0.020891,
     "end_time": "2023-09-11T16:54:49.650604",
     "exception": false,
     "start_time": "2023-09-11T16:54:49.629713",
     "status": "completed"
    },
    "tags": []
   },
   "outputs": [
    {
     "data": {
      "text/plain": [
       "5.699229455065586"
      ]
     },
     "execution_count": 19,
     "metadata": {},
     "output_type": "execute_result"
    }
   ],
   "source": [
    "# The last value of w\n",
    "w[-1]"
   ]
  }
 ],
 "kernelspec": {
  "display_name": "Python 3",
  "language": "python",
  "name": "python3"
 },
 "language_info": {
  "codemirror_mode": {
   "name": "ipython",
   "version": 3
  },
  "file_extension": ".py",
  "mimetype": "text/x-python",
  "name": "python",
  "nbconvert_exporter": "python",
  "pygments_lexer": "ipython3",
  "version": "3.6.4"
 },
 "metadata": {
  "kernelspec": {
   "display_name": "Python 3",
   "language": "python",
   "name": "python3"
  },
  "language_info": {
   "codemirror_mode": {
    "name": "ipython",
    "version": 3
   },
   "file_extension": ".py",
   "mimetype": "text/x-python",
   "name": "python",
   "nbconvert_exporter": "python",
   "pygments_lexer": "ipython3",
   "version": "3.10.12"
  },
  "papermill": {
   "default_parameters": {},
   "duration": 6.449385,
   "end_time": "2023-09-11T16:54:50.179623",
   "environment_variables": {},
   "exception": null,
   "input_path": "__notebook__.ipynb",
   "output_path": "__notebook__.ipynb",
   "parameters": {},
   "start_time": "2023-09-11T16:54:43.730238",
   "version": "2.4.0"
  }
 },
 "nbformat": 4,
 "nbformat_minor": 5
}
